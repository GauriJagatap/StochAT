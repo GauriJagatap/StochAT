{
 "cells": [
  {
   "cell_type": "markdown",
   "metadata": {},
   "source": [
    "Evaluate the models"
   ]
  },
  {
   "cell_type": "markdown",
   "metadata": {},
   "source": [
    "# Stochastic Adversarial Training (StochAT)"
   ]
  },
  {
   "cell_type": "markdown",
   "metadata": {},
   "source": [
    "### SoTA"
   ]
  },
  {
   "cell_type": "markdown",
   "metadata": {},
   "source": [
    "vanila SGD: \n",
    "MNIST - 99%+ (most cnns), CIFAR10 - 93%+ (resnet18), 96%+ (wideresnet) \n",
    "\n",
    "MNIST:\n",
    "\n",
    "adversarial attacks: \n",
    "l-inf @ eps = 80/255 @20 steps: TRADES - 96.07% - (4 layer cnn), MART 96.4%, MMA 95.5%, PGD - 96.01% - (4 layer cnn)\n",
    "\n",
    "adversarial attacks:\n",
    "l-2 @ eps = 32/255 (check): TRADES, MMA, PGD\n",
    "\n",
    "CIFAR10:\n",
    "\n",
    "adversarial attacks: \n",
    "l-inf @ eps = 8/255 @20 steps: \n",
    "TRADES 53-56% - (WRN-34-10), MART 57-58% (WRN-34-10), MMA 47%, PGD 48% - (WRN-32-10)// 49% - (WRN-34-10), Std - 0.03%\n",
    "https://openreview.net/pdf?id=rklOg6EFwS (Table 4)\n",
    "\n",
    "adversarial attacks: \n",
    "l-inf @ eps = 8/255 @20 steps: \n",
    "[ResNet10] TRADES 45.4%, MART 46.6%, MMA 37.26%, PGD 42.27%, Std 0.14%\n",
    "\n",
    "Benign accuracies: TRADES 84.92%, MART 83.62%, MMA 84.36, PGD 87.14%, Std 95.8% [wideresnet]\n",
    "https://openreview.net/pdf?id=Ms9zjhVB5R (Table 1)\n",
    "\n",
    "adversarial attacks:\n",
    "l-2 @ eps = 32/255 (check): TRADES, MART, MMA, PGD\n",
    "\n",
    "TBD: CWinf attacks"
   ]
  },
  {
   "cell_type": "markdown",
   "metadata": {},
   "source": [
    "## Pretrained models for comparison"
   ]
  },
  {
   "cell_type": "markdown",
   "metadata": {},
   "source": [
    "download pretrained models and place in ../trainedmodels/MNIST or ../trainedmodels/CIFAR10 respectively\n",
    "\n",
    "### TRADES :\n",
    "https://github.com/yaodongyu/TRADES (MNIST: small cnn, CIFAR10: WideResNet34)\n",
    "### MMA : \n",
    "https://github.com/BorealisAI/mma_training (MNIST: lenet5, CIFAR10: WideResNet28)\n",
    "### MART :\n",
    " https://github.com/YisenWang/MART (CIFAR10: ResNet18 and WideResNet34)"
   ]
  },
  {
   "cell_type": "markdown",
   "metadata": {},
   "source": [
    "## IMPORT LIBRARIES"
   ]
  },
  {
   "cell_type": "code",
   "execution_count": 1,
   "metadata": {},
   "outputs": [],
   "source": [
    "import numpy as np\n",
    "import pandas as pd\n",
    "from torch import nn, optim\n",
    "from torch.utils.data import DataLoader\n",
    "import torch.nn.functional as F\n",
    "from torchvision import transforms, datasets\n",
    "from multiprocessing import cpu_count\n",
    "from collections import OrderedDict\n",
    "import matplotlib.pyplot as plt\n",
    "import torch\n",
    "import olympic\n",
    "from typing import Union, Callable, Tuple\n",
    "import sys\n",
    "sys.path.append('../adversarial/')\n",
    "sys.path.append('../architectures/')\n",
    "from functional import boundary, iterated_fgsm, local_search, pgd, entropySmoothing\n",
    "from ESGD_utils import *\n",
    "import pickle\n",
    "import time\n",
    "import torch.backends.cudnn as cudnn\n",
    "import argparse, math, random\n",
    "import ESGD_optim\n",
    "from trades import trades_loss"
   ]
  },
  {
   "cell_type": "code",
   "execution_count": 2,
   "metadata": {},
   "outputs": [],
   "source": [
    "from torch.autograd import Variable"
   ]
  },
  {
   "cell_type": "code",
   "execution_count": 3,
   "metadata": {},
   "outputs": [],
   "source": [
    "from torch.optim.lr_scheduler import StepLR"
   ]
  },
  {
   "cell_type": "code",
   "execution_count": 4,
   "metadata": {},
   "outputs": [],
   "source": [
    "if torch.cuda.is_available():\n",
    "    DEVICE = 'cuda'\n",
    "else:\n",
    "    DEVICE = 'cpu'"
   ]
  },
  {
   "cell_type": "code",
   "execution_count": 5,
   "metadata": {},
   "outputs": [
    {
     "data": {
      "text/plain": [
       "'cuda'"
      ]
     },
     "execution_count": 5,
     "metadata": {},
     "output_type": "execute_result"
    }
   ],
   "source": [
    "DEVICE"
   ]
  },
  {
   "cell_type": "markdown",
   "metadata": {},
   "source": [
    "# LOAD DATA"
   ]
  },
  {
   "cell_type": "code",
   "execution_count": 6,
   "metadata": {},
   "outputs": [],
   "source": [
    "#place data folders outside working directory"
   ]
  },
  {
   "cell_type": "code",
   "execution_count": 7,
   "metadata": {},
   "outputs": [],
   "source": [
    "kwargs = {'num_workers': 4, 'pin_memory': True}"
   ]
  },
  {
   "cell_type": "code",
   "execution_count": 8,
   "metadata": {},
   "outputs": [],
   "source": [
    "args = {}\n",
    "args['test_batch_size'] = 128\n",
    "args['train_batch_size'] = 128\n",
    "args['no_cuda'] = False\n",
    "args['epsilon'] = 0.3\n",
    "args['num_steps'] = 40\n",
    "args['step_size'] = 0.01\n",
    "args['random'] =True,\n",
    "args['white_box_attack']=True\n",
    "args['log_interval'] = 100\n",
    "args['beta'] = 6.0\n",
    "args['seed'] = 1\n",
    "args['lr'] = 0.1\n",
    "args['momentum'] = 0.9\n",
    "args['batch_size'] = 128\n",
    "args['save_freq'] = 5"
   ]
  },
  {
   "cell_type": "code",
   "execution_count": 9,
   "metadata": {},
   "outputs": [
    {
     "name": "stdout",
     "output_type": "stream",
     "text": [
      "Files already downloaded and verified\n",
      "Files already downloaded and verified\n"
     ]
    }
   ],
   "source": [
    "dataset = 'MNIST' # [MNIST, CIFAR10]\n",
    "if dataset == 'MNIST':\n",
    "    transform = transforms.Compose([\n",
    "    transforms.ToTensor()])\n",
    "    train = datasets.MNIST('../../data/MNIST', train=True, transform=transform, download=True)\n",
    "    val = datasets.MNIST('../../data/MNIST', train=False, transform=transform, download=True)\n",
    "elif dataset == 'CIFAR10':\n",
    "    # setup data loader\n",
    "    transform_train = transforms.Compose([\n",
    "        transforms.RandomCrop(32, padding=4),\n",
    "        transforms.RandomHorizontalFlip(),\n",
    "        transforms.ToTensor(),\n",
    "    ])\n",
    "    transform_test = transforms.Compose([\n",
    "        transforms.ToTensor(),\n",
    "    ])\n",
    "\n",
    "    train = datasets.CIFAR10('../../data/CIFAR10', train=True, transform=transform_train, download=True)\n",
    "    val = datasets.CIFAR10('../../data/CIFAR10', train=False, transform=transform_test, download=True)\n",
    "    \n",
    "train_loader = DataLoader(train, batch_size=args['test_batch_size'], shuffle=True, **kwargs)\n",
    "val_loader = DataLoader(val, batch_size=args['train_batch_size'], shuffle=False, **kwargs)"
   ]
  },
  {
   "cell_type": "code",
   "execution_count": 10,
   "metadata": {},
   "outputs": [
    {
     "data": {
      "text/plain": [
       "Compose(\n",
       "    RandomCrop(size=(32, 32), padding=4)\n",
       "    RandomHorizontalFlip(p=0.5)\n",
       "    ToTensor()\n",
       ")"
      ]
     },
     "execution_count": 10,
     "metadata": {},
     "output_type": "execute_result"
    }
   ],
   "source": [
    "transform_train"
   ]
  },
  {
   "cell_type": "markdown",
   "metadata": {},
   "source": [
    "# INITIALIZE NETWORK"
   ]
  },
  {
   "cell_type": "code",
   "execution_count": 11,
   "metadata": {},
   "outputs": [],
   "source": [
    "if dataset=='MNIST':\n",
    "    from small_cnn import SmallCNN   \n",
    "    Net = SmallCNN\n",
    "    NetName = 'SmallCNN'"
   ]
  },
  {
   "cell_type": "code",
   "execution_count": 12,
   "metadata": {},
   "outputs": [],
   "source": [
    "if dataset=='CIFAR10':\n",
    "    #[ResNet18,ResNet34,ResNet50,WideResNet]\n",
    "    from resnet import ResNet18,ResNet34,ResNet50\n",
    "    from wideresnet import WideResNet\n",
    "    Net = WideResNet\n",
    "    NetName = 'WideResNet'"
   ]
  },
  {
   "cell_type": "markdown",
   "metadata": {},
   "source": [
    "# RANDOM SEED "
   ]
  },
  {
   "cell_type": "code",
   "execution_count": 13,
   "metadata": {},
   "outputs": [
    {
     "data": {
      "text/plain": [
       "<torch._C.Generator at 0x7f2a0308d110>"
      ]
     },
     "execution_count": 13,
     "metadata": {},
     "output_type": "execute_result"
    }
   ],
   "source": [
    "seed = args['seed']\n",
    "torch.set_num_threads(2)\n",
    "if DEVICE=='cuda':\n",
    "    torch.cuda.set_device(-1)\n",
    "    torch.cuda.manual_seed(seed)\n",
    "    cudnn.benchmark = True\n",
    "random.seed(seed)\n",
    "np.random.seed(seed)\n",
    "torch.manual_seed(seed)"
   ]
  },
  {
   "cell_type": "code",
   "execution_count": 14,
   "metadata": {},
   "outputs": [],
   "source": [
    "def eval_train(model, device, train_loader):\n",
    "    model.eval()\n",
    "    train_loss = 0\n",
    "    correct = 0\n",
    "    with torch.no_grad():\n",
    "        for data, target in train_loader:\n",
    "            data, target = data.to(device), target.to(device)\n",
    "            output = model(data)\n",
    "            train_loss += F.cross_entropy(output, target, size_average=False).item()\n",
    "            pred = output.max(1, keepdim=True)[1]\n",
    "            correct += pred.eq(target.view_as(pred)).sum().item()\n",
    "    train_loss /= len(train_loader.dataset)\n",
    "    print('Training: Average loss: {:.4f}, Accuracy: {}/{} ({:.0f}%)'.format(\n",
    "        train_loss, correct, len(train_loader.dataset),\n",
    "        100. * correct / len(train_loader.dataset)))\n",
    "    training_accuracy = correct / len(train_loader.dataset)\n",
    "    return train_loss, training_accuracy"
   ]
  },
  {
   "cell_type": "code",
   "execution_count": 15,
   "metadata": {},
   "outputs": [],
   "source": [
    "def eval_test(model, device, test_loader):\n",
    "    model.eval()\n",
    "    test_loss = 0\n",
    "    correct = 0\n",
    "    with torch.no_grad():\n",
    "        for data, target in test_loader:\n",
    "            data, target = data.to(device), target.to(device)\n",
    "            output = model(data)\n",
    "            test_loss += F.cross_entropy(output, target, size_average=False).item()\n",
    "            pred = output.max(1, keepdim=True)[1]\n",
    "            correct += pred.eq(target.view_as(pred)).sum().item()\n",
    "    test_loss /= len(test_loader.dataset)\n",
    "    print('Test: Average loss: {:.4f}, Accuracy: {}/{} ({:.0f}%)'.format(\n",
    "        test_loss, correct, len(test_loader.dataset),\n",
    "        100. * correct / len(test_loader.dataset)))\n",
    "    test_accuracy = correct / len(test_loader.dataset)\n",
    "    return test_loss, test_accuracy"
   ]
  },
  {
   "cell_type": "code",
   "execution_count": 16,
   "metadata": {},
   "outputs": [],
   "source": [
    "def _pgd_whitebox(model,\n",
    "                  X,\n",
    "                  y,\n",
    "                  epsilon=args['epsilon'],\n",
    "                  num_steps=20,\n",
    "                  step_size=0.003):\n",
    "    out = model(X)\n",
    "    err = (out.data.max(1)[1] != y.data).float().sum()\n",
    "    X_pgd = Variable(X.data, requires_grad=True)\n",
    "    if args['random']:\n",
    "        random_noise = torch.FloatTensor(*X_pgd.shape).uniform_(-epsilon, epsilon).to(DEVICE)\n",
    "        X_pgd = Variable(X_pgd.data + random_noise, requires_grad=True)\n",
    "\n",
    "    for _ in range(num_steps):\n",
    "        opt = optim.SGD([X_pgd], lr=1e-3)\n",
    "        opt.zero_grad()\n",
    "\n",
    "        with torch.enable_grad():\n",
    "            loss = nn.CrossEntropyLoss()(model(X_pgd), y)\n",
    "        loss.backward()\n",
    "        eta = step_size * X_pgd.grad.data.sign()\n",
    "        X_pgd = Variable(X_pgd.data + eta, requires_grad=True)\n",
    "        eta = torch.clamp(X_pgd.data - X.data, -epsilon, epsilon)\n",
    "        X_pgd = Variable(X.data + eta, requires_grad=True)\n",
    "        X_pgd = Variable(torch.clamp(X_pgd, 0, 1.0), requires_grad=True)\n",
    "    err_pgd = (model(X_pgd).data.max(1)[1] != y.data).float().sum()\n",
    "    #print('err pgd (white-box): ', err_pgd)\n",
    "    return err, err_pgd\n",
    "\n",
    "def eval_adv_test_whitebox(model, device, test_loader):\n",
    "    \"\"\"\n",
    "    evaluate model by white-box attack\n",
    "    \"\"\"\n",
    "    model.eval()\n",
    "    robust_err_total = 0\n",
    "    natural_err_total = 0\n",
    "\n",
    "    for data, target in test_loader:\n",
    "        data, target = data.to(device), target.to(device)\n",
    "        # pgd attack\n",
    "        X, y = Variable(data, requires_grad=True), Variable(target)\n",
    "        err_natural, err_robust = _pgd_whitebox(model, X, y)\n",
    "        robust_err_total += err_robust\n",
    "        natural_err_total += err_natural\n",
    "    rob = 100-robust_err_total.item()/100    \n",
    "    print('natural_acc_total: ', 100-natural_err_total.item()/100)\n",
    "    print('robust_acc_total: ', rob)\n",
    "    return rob"
   ]
  },
  {
   "cell_type": "code",
   "execution_count": 17,
   "metadata": {},
   "outputs": [],
   "source": [
    "if not os.path.exists('../trainedmodels'):\n",
    "    os.makedirs('../trainedmodels')"
   ]
  },
  {
   "cell_type": "code",
   "execution_count": 18,
   "metadata": {},
   "outputs": [],
   "source": [
    "def infnorm(x):\n",
    "    infn = torch.max(torch.abs(x.detach().cpu()))\n",
    "    return infn"
   ]
  },
  {
   "cell_type": "code",
   "execution_count": 19,
   "metadata": {},
   "outputs": [],
   "source": [
    "def train_adversarial(method,model, device, train_loader, optimizer, epoch,adversary,L,step,eps,norm,random):\n",
    "    totalcorrect = 0\n",
    "    for batch_idx, (data, target) in enumerate(train_loader):\n",
    "        data, target = data.to(device), target.to(device)\n",
    "        ypred = model(data)\n",
    "        \n",
    "        sgd_loss = nn.CrossEntropyLoss()\n",
    "        # calculate robust loss per batch\n",
    "        loss, correct = method(model,optimizer,sgd_loss,data,target,epoch,adversary,L,step,eps,norm)\n",
    "        totalcorrect += correct\n",
    "    print('robust train accuracy:',100*totalcorrect/len(train_loader.dataset))   "
   ]
  },
  {
   "cell_type": "markdown",
   "metadata": {},
   "source": [
    "# TRAIN MODEL USING SAT"
   ]
  },
  {
   "cell_type": "code",
   "execution_count": 20,
   "metadata": {},
   "outputs": [],
   "source": [
    "def adversarial_training_entropy(model, optimiser, loss_fn, x, y, epoch, adversary, L, step, eps, norm):\n",
    "    \"\"\"Performs a single update against a specified adversary\"\"\"\n",
    "    model.train()\n",
    "    \n",
    "    # Adversial perturbation\n",
    "    alpha=0.9\n",
    "    loss = 0\n",
    "    \n",
    "    for l in range(L):     \n",
    "        \n",
    "        if l==0: ## initialize using random perturbation of true x, run for one epoch\n",
    "            k=1\n",
    "            random=True\n",
    "            xp = None\n",
    "            projector=False\n",
    "        elif l>0 and l<L-1: ## initialize with previous iterate of adversarial perturbation, run one epoch\n",
    "            k=1\n",
    "            random=False\n",
    "            xp=x_adv\n",
    "            projector = False\n",
    "        elif l == L-1: ## initialize with previous iterate, run one epoch, project to epsilon ball\n",
    "            k=1\n",
    "            random=False\n",
    "            xp = x_adv\n",
    "            projector=True\n",
    "            \n",
    "        x_adv = adversary(model, x, y, loss_fn, xp=xp, step=step, eps=eps, norm=norm, random=random, ep=1e-3,projector=projector)\n",
    "        \n",
    "        optimiser.zero_grad()\n",
    "        y_pred = model(x_adv)\n",
    "        pred = y_pred.max(1, keepdim=True)[1]\n",
    "        correct = pred.eq(y.view_as(pred)).sum().item()\n",
    "        loss = (1-alpha)*loss + alpha*loss_fn(y_pred, y)\n",
    "        \n",
    "    loss.backward()\n",
    "    optimiser.step()\n",
    "    return loss, correct"
   ]
  },
  {
   "cell_type": "code",
   "execution_count": 21,
   "metadata": {},
   "outputs": [],
   "source": [
    "model_dir = '../WRN_ATENT_lr0p1'"
   ]
  },
  {
   "cell_type": "code",
   "execution_count": 22,
   "metadata": {},
   "outputs": [
    {
     "name": "stdout",
     "output_type": "stream",
     "text": [
      "model-nn-epoch10-robacc43.pt  model-nn-epoch34-robacc49.pt\r\n",
      "model-nn-epoch11-robacc41.pt  model-nn-epoch35-robacc48.pt\r\n",
      "model-nn-epoch12-robacc44.pt  model-nn-epoch36-robacc48.pt\r\n",
      "model-nn-epoch13-robacc46.pt  model-nn-epoch37-robacc49.pt\r\n",
      "model-nn-epoch14-robacc44.pt  model-nn-epoch38-robacc49.pt\r\n",
      "model-nn-epoch15-robacc46.pt  model-nn-epoch39-robacc49.pt\r\n",
      "model-nn-epoch16-robacc45.pt  model-nn-epoch3-robacc33.pt\r\n",
      "model-nn-epoch17-robacc45.pt  model-nn-epoch40-robacc48.pt\r\n",
      "model-nn-epoch18-robacc47.pt  model-nn-epoch41-robacc49.pt\r\n",
      "model-nn-epoch19-robacc47.pt  model-nn-epoch42-robacc49.pt\r\n",
      "model-nn-epoch1-robacc26.pt   model-nn-epoch43-robacc50.pt\r\n",
      "model-nn-epoch20-robacc45.pt  model-nn-epoch44-robacc50.pt\r\n",
      "model-nn-epoch21-robacc45.pt  model-nn-epoch45-robacc49.pt\r\n",
      "model-nn-epoch22-robacc46.pt  model-nn-epoch46-robacc50.pt\r\n",
      "model-nn-epoch23-robacc48.pt  model-nn-epoch47-robacc50.pt\r\n",
      "model-nn-epoch24-robacc48.pt  model-nn-epoch48-robacc49.pt\r\n",
      "model-nn-epoch25-robacc48.pt  model-nn-epoch49-robacc49.pt\r\n",
      "model-nn-epoch26-robacc48.pt  model-nn-epoch4-robacc35.pt\r\n",
      "model-nn-epoch27-robacc49.pt  model-nn-epoch50-robacc50.pt\r\n",
      "model-nn-epoch28-robacc48.pt  model-nn-epoch51-robacc50.pt\r\n",
      "model-nn-epoch29-robacc47.pt  model-nn-epoch5-robacc37.pt\r\n",
      "model-nn-epoch2-robacc28.pt   model-nn-epoch6-robacc38.pt\r\n",
      "model-nn-epoch30-robacc46.pt  model-nn-epoch7-robacc40.pt\r\n",
      "model-nn-epoch31-robacc49.pt  model-nn-epoch8-robacc41.pt\r\n",
      "model-nn-epoch32-robacc47.pt  model-nn-epoch9-robacc43.pt\r\n",
      "model-nn-epoch33-robacc49.pt\r\n"
     ]
    }
   ],
   "source": [
    "ls ../WRN_ATENT_lr0p1"
   ]
  },
  {
   "cell_type": "code",
   "execution_count": 23,
   "metadata": {},
   "outputs": [],
   "source": [
    "if not os.path.exists(model_dir):\n",
    "    os.makedirs(model_dir)"
   ]
  },
  {
   "cell_type": "code",
   "execution_count": 25,
   "metadata": {},
   "outputs": [],
   "source": [
    "model_SATInf = Net().to(DEVICE)\n",
    "model_SATInf = nn.DataParallel(model_SATInf)\n",
    "#load state dict here\n",
    "#w = 46\n",
    "string = '../WRN_ATENT_lr0p1/model-nn-epoch'+str(51)+'-robacc50'+'.pt' #//trained till 49 in WRN_ATTENT, till 74 in WRN_ATTENT2\n"
   ]
  },
  {
   "cell_type": "code",
   "execution_count": 29,
   "metadata": {},
   "outputs": [
    {
     "data": {
      "text/plain": [
       "'../WRN_ATENT_lr0p1/model-nn-epoch51-robacc50.pt'"
      ]
     },
     "execution_count": 29,
     "metadata": {},
     "output_type": "execute_result"
    }
   ],
   "source": [
    "string"
   ]
  },
  {
   "cell_type": "code",
   "execution_count": 26,
   "metadata": {},
   "outputs": [
    {
     "data": {
      "text/plain": [
       "<All keys matched successfully>"
      ]
     },
     "execution_count": 26,
     "metadata": {},
     "output_type": "execute_result"
    }
   ],
   "source": [
    "model_SATInf.load_state_dict(torch.load(string))\n",
    "#eval_train(model_SATInf, DEVICE, train_loader)"
   ]
  },
  {
   "cell_type": "code",
   "execution_count": 27,
   "metadata": {},
   "outputs": [],
   "source": [
    "#eval_adv_test_whitebox(model_SATInf, DEVICE, val_loader)            \n"
   ]
  },
  {
   "cell_type": "code",
   "execution_count": 28,
   "metadata": {},
   "outputs": [],
   "source": [
    "def adjust_learning_rate(optimizer, epoch,lr_init):\n",
    "    \"\"\"decrease the learning rate\"\"\"\n",
    "    lr = lr_init\n",
    "    if epoch >= 76:   #w+1:\n",
    "        lr = lr_init * 0.1\n",
    "    if epoch >= 77:\n",
    "        lr = lr_init * 0.01\n",
    "    for param_group in optimizer.param_groups:\n",
    "        param_group['lr'] = lr"
   ]
  },
  {
   "cell_type": "code",
   "execution_count": 30,
   "metadata": {
    "scrolled": true
   },
   "outputs": [
    {
     "name": "stdout",
     "output_type": "stream",
     "text": [
      "Epoch: 52\n",
      "robust train accuracy: 55.968\n",
      "================================================================\n"
     ]
    },
    {
     "name": "stderr",
     "output_type": "stream",
     "text": [
      "/usr/lib/python3/dist-packages/torch/nn/_reduction.py:44: UserWarning: size_average and reduce args will be deprecated, please use reduction='sum' instead.\n",
      "  warnings.warn(warning.format(ret))\n"
     ]
    },
    {
     "name": "stdout",
     "output_type": "stream",
     "text": [
      "Training: Average loss: 0.6474, Accuracy: 40722/50000 (81%)\n",
      "natural_acc_total:  76.81\n",
      "robust_acc_total:  46.9\n",
      "================================================================\n",
      "Epoch: 53\n",
      "robust train accuracy: 55.908\n",
      "================================================================\n",
      "Training: Average loss: 0.6318, Accuracy: 41274/50000 (83%)\n",
      "natural_acc_total:  77.94\n",
      "robust_acc_total:  49.33\n",
      "================================================================\n",
      "Epoch: 54\n",
      "robust train accuracy: 55.622\n",
      "================================================================\n",
      "Training: Average loss: 0.7169, Accuracy: 40969/50000 (82%)\n",
      "natural_acc_total:  77.09\n",
      "robust_acc_total:  49.28\n",
      "================================================================\n",
      "Epoch: 55\n",
      "robust train accuracy: 56.13\n",
      "================================================================\n",
      "Training: Average loss: 0.5830, Accuracy: 42340/50000 (85%)\n",
      "natural_acc_total:  80.41\n",
      "robust_acc_total:  48.86\n",
      "================================================================\n",
      "Epoch: 56\n",
      "robust train accuracy: 55.936\n",
      "================================================================\n",
      "Training: Average loss: 0.6652, Accuracy: 41653/50000 (83%)\n",
      "natural_acc_total:  79.5\n",
      "robust_acc_total:  50.44\n",
      "================================================================\n",
      "Epoch: 57\n",
      "robust train accuracy: 56.068\n",
      "================================================================\n",
      "Training: Average loss: 0.7113, Accuracy: 41530/50000 (83%)\n",
      "natural_acc_total:  78.26\n",
      "robust_acc_total:  49.14\n",
      "================================================================\n",
      "Epoch: 58\n",
      "robust train accuracy: 56.204\n",
      "================================================================\n",
      "Training: Average loss: 0.6871, Accuracy: 41493/50000 (83%)\n",
      "natural_acc_total:  78.32\n",
      "robust_acc_total:  49.8\n",
      "================================================================\n",
      "Epoch: 59\n",
      "robust train accuracy: 56.24\n",
      "================================================================\n",
      "Training: Average loss: 0.6590, Accuracy: 41299/50000 (83%)\n",
      "natural_acc_total:  78.57\n",
      "robust_acc_total:  50.32\n",
      "================================================================\n",
      "Epoch: 60\n",
      "robust train accuracy: 56.532\n",
      "================================================================\n",
      "Training: Average loss: 0.6597, Accuracy: 41182/50000 (82%)\n",
      "natural_acc_total:  77.42\n",
      "robust_acc_total:  48.73\n",
      "================================================================\n",
      "Epoch: 61\n",
      "robust train accuracy: 56.226\n",
      "================================================================\n",
      "Training: Average loss: 0.6149, Accuracy: 42212/50000 (84%)\n",
      "natural_acc_total:  80.47\n",
      "robust_acc_total:  49.19\n",
      "================================================================\n",
      "Epoch: 62\n",
      "robust train accuracy: 56.348\n",
      "================================================================\n",
      "Training: Average loss: 0.7240, Accuracy: 40610/50000 (81%)\n",
      "natural_acc_total:  77.24\n",
      "robust_acc_total:  48.8\n",
      "================================================================\n",
      "Epoch: 63\n",
      "robust train accuracy: 56.356\n",
      "================================================================\n",
      "Training: Average loss: 0.6679, Accuracy: 41610/50000 (83%)\n",
      "natural_acc_total:  78.78999999999999\n",
      "robust_acc_total:  49.28\n",
      "================================================================\n",
      "Epoch: 64\n",
      "robust train accuracy: 56.592\n",
      "================================================================\n",
      "Training: Average loss: 0.5967, Accuracy: 42622/50000 (85%)\n",
      "natural_acc_total:  80.84\n",
      "robust_acc_total:  49.91\n",
      "================================================================\n",
      "Epoch: 65\n",
      "robust train accuracy: 56.502\n",
      "================================================================\n",
      "Training: Average loss: 0.6416, Accuracy: 42004/50000 (84%)\n",
      "natural_acc_total:  80.3\n",
      "robust_acc_total:  49.99\n",
      "================================================================\n",
      "Epoch: 66\n",
      "robust train accuracy: 56.684\n",
      "================================================================\n",
      "Training: Average loss: 0.6081, Accuracy: 42412/50000 (85%)\n",
      "natural_acc_total:  81.09\n",
      "robust_acc_total:  49.85\n",
      "================================================================\n",
      "Epoch: 67\n",
      "robust train accuracy: 56.762\n",
      "================================================================\n",
      "Training: Average loss: 0.6571, Accuracy: 41656/50000 (83%)\n",
      "natural_acc_total:  78.66\n",
      "robust_acc_total:  50.52\n",
      "================================================================\n",
      "Epoch: 68\n",
      "robust train accuracy: 56.812\n",
      "================================================================\n",
      "Training: Average loss: 0.6698, Accuracy: 42447/50000 (85%)\n",
      "natural_acc_total:  79.51\n",
      "robust_acc_total:  48.88\n",
      "================================================================\n",
      "Epoch: 69\n",
      "robust train accuracy: 56.928\n",
      "================================================================\n",
      "Training: Average loss: 0.6462, Accuracy: 42166/50000 (84%)\n",
      "natural_acc_total:  79.88\n",
      "robust_acc_total:  50.81\n",
      "================================================================\n",
      "Epoch: 70\n",
      "robust train accuracy: 56.808\n",
      "================================================================\n",
      "Training: Average loss: 0.5630, Accuracy: 42087/50000 (84%)\n",
      "natural_acc_total:  80.38\n",
      "robust_acc_total:  50.85\n",
      "================================================================\n",
      "Epoch: 71\n",
      "robust train accuracy: 57.014\n",
      "================================================================\n",
      "Training: Average loss: 0.5763, Accuracy: 42683/50000 (85%)\n",
      "natural_acc_total:  80.64\n",
      "robust_acc_total:  49.23\n",
      "================================================================\n",
      "Epoch: 72\n",
      "robust train accuracy: 57.1\n",
      "================================================================\n",
      "Training: Average loss: 0.6761, Accuracy: 41476/50000 (83%)\n",
      "natural_acc_total:  78.09\n",
      "robust_acc_total:  49.15\n",
      "================================================================\n",
      "Epoch: 73\n",
      "robust train accuracy: 57.268\n",
      "================================================================\n",
      "Training: Average loss: 0.6337, Accuracy: 42004/50000 (84%)\n",
      "natural_acc_total:  79.31\n",
      "robust_acc_total:  51.04\n",
      "================================================================\n",
      "Epoch: 74\n",
      "robust train accuracy: 56.882\n",
      "================================================================\n",
      "Training: Average loss: 0.6091, Accuracy: 42753/50000 (86%)\n",
      "natural_acc_total:  80.78999999999999\n",
      "robust_acc_total:  48.86\n",
      "================================================================\n",
      "Epoch: 75\n",
      "robust train accuracy: 56.886\n",
      "================================================================\n",
      "Training: Average loss: 0.6309, Accuracy: 42463/50000 (85%)\n",
      "natural_acc_total:  80.61\n",
      "robust_acc_total:  50.77\n",
      "================================================================\n"
     ]
    }
   ],
   "source": [
    "## initialize model\n",
    "#model_SATInf = Net().to(DEVICE)\n",
    "#model_SATInf = nn.DataParallel(model_SATInf)\n",
    "## training params\n",
    "epochs = 75   #w+2\n",
    "lr_init = 0.1\n",
    "optimizer = optim.SGD(model_SATInf.parameters(), lr=lr_init, momentum=0.9, weight_decay=5e-4)\n",
    "## train model\n",
    "\n",
    "for epoch in range(52, epochs+1):\n",
    "    print('Epoch:',epoch)\n",
    "    \n",
    "    # adjust learning rate for SGD\n",
    "    adjust_learning_rate(optimizer, epoch,lr_init)\n",
    "    \n",
    "    # adversarial training\n",
    "    train_adversarial(adversarial_training_entropy,model_SATInf, DEVICE, train_loader, optimizer, epoch,adversary=entropySmoothing,L=10,step=0.007,eps=0.031,norm='inf',random=False)\n",
    "\n",
    "    # evaluation on natural and adversarial examples\n",
    "    print('================================================================')\n",
    "    eval_train(model_SATInf, DEVICE, train_loader)\n",
    "    rob = eval_adv_test_whitebox(model_SATInf, DEVICE, val_loader)            \n",
    "    print('================================================================')\n",
    "\n",
    "    # save checkpoint\n",
    "    if (epoch-1) % 1 == 0:\n",
    "        torch.save(model_SATInf.state_dict(),\n",
    "                   os.path.join(model_dir, 'model-nn-epoch{}-robacc{}.pt'.format(epoch,int(np.round(rob)))))\n",
    "\n",
    "## save model\n",
    "modelname = '../trainedmodels/'+dataset+'/'+NetName+'_SATInf_ep'+str(epochs)+'_lr'+str(lr_init)+'.pt'\n",
    "torch.save(model_SATInf,modelname)"
   ]
  },
  {
   "cell_type": "code",
   "execution_count": null,
   "metadata": {},
   "outputs": [],
   "source": []
  }
 ],
 "metadata": {
  "kernelspec": {
   "display_name": "Python 3",
   "language": "python",
   "name": "python3"
  },
  "language_info": {
   "codemirror_mode": {
    "name": "ipython",
    "version": 3
   },
   "file_extension": ".py",
   "mimetype": "text/x-python",
   "name": "python",
   "nbconvert_exporter": "python",
   "pygments_lexer": "ipython3",
   "version": "3.8.5"
  }
 },
 "nbformat": 4,
 "nbformat_minor": 4
}
