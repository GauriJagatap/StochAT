{
 "cells": [
  {
   "cell_type": "markdown",
   "metadata": {},
   "source": [
    "Evaluate the models"
   ]
  },
  {
   "cell_type": "markdown",
   "metadata": {},
   "source": [
    "# Stochastic Adversarial Training (StochAT)"
   ]
  },
  {
   "cell_type": "markdown",
   "metadata": {},
   "source": [
    "### SoTA"
   ]
  },
  {
   "cell_type": "markdown",
   "metadata": {},
   "source": [
    "vanila SGD: \n",
    "MNIST - 99%+ (most cnns), CIFAR10 - 93%+ (resnet18), 96%+ (wideresnet) \n",
    "\n",
    "MNIST:\n",
    "\n",
    "adversarial attacks: \n",
    "l-inf @ eps = 80/255 @20 steps: TRADES - 96.07% - (4 layer cnn), MART 96.4%, MMA 95.5%, PGD - 96.01% - (4 layer cnn)\n",
    "\n",
    "adversarial attacks:\n",
    "l-2 @ eps = 32/255 (check): TRADES, MMA, PGD\n",
    "\n",
    "CIFAR10:\n",
    "\n",
    "adversarial attacks: \n",
    "l-inf @ eps = 8/255 @20 steps: \n",
    "TRADES 53-56% - (WRN-34-10), MART 57-58% (WRN-34-10), MMA 47%, PGD 48% - (WRN-32-10)// 49% - (WRN-34-10), Std - 0.03%\n",
    "https://openreview.net/pdf?id=rklOg6EFwS (Table 4)\n",
    "\n",
    "adversarial attacks: \n",
    "l-inf @ eps = 8/255 @20 steps: \n",
    "[ResNet10] TRADES 45.4%, MART 46.6%, MMA 37.26%, PGD 42.27%, Std 0.14%\n",
    "\n",
    "Benign accuracies: TRADES 84.92%, MART 83.62%, MMA 84.36, PGD 87.14%, Std 95.8% [wideresnet]\n",
    "https://openreview.net/pdf?id=Ms9zjhVB5R (Table 1)\n",
    "\n",
    "adversarial attacks:\n",
    "l-2 @ eps = 32/255 (check): TRADES, MART, MMA, PGD\n",
    "\n",
    "TBD: CWinf attacks"
   ]
  },
  {
   "cell_type": "markdown",
   "metadata": {},
   "source": [
    "## Pretrained models for comparison"
   ]
  },
  {
   "cell_type": "markdown",
   "metadata": {},
   "source": [
    "download pretrained models and place in ../trainedmodels/MNIST or ../trainedmodels/CIFAR10 respectively\n",
    "\n",
    "### TRADES :\n",
    "https://github.com/yaodongyu/TRADES (MNIST: small cnn, CIFAR10: WideResNet34)\n",
    "### MMA : \n",
    "https://github.com/BorealisAI/mma_training (MNIST: lenet5, CIFAR10: WideResNet28)\n",
    "### MART :\n",
    " https://github.com/YisenWang/MART (CIFAR10: ResNet18 and WideResNet34)"
   ]
  },
  {
   "cell_type": "markdown",
   "metadata": {},
   "source": [
    "## IMPORT LIBRARIES"
   ]
  },
  {
   "cell_type": "code",
   "execution_count": 49,
   "metadata": {},
   "outputs": [],
   "source": [
    "import numpy as np\n",
    "import pandas as pd\n",
    "from torch import nn, optim\n",
    "from torch.utils.data import DataLoader\n",
    "import torch.nn.functional as F\n",
    "from torchvision import transforms, datasets\n",
    "from multiprocessing import cpu_count\n",
    "from collections import OrderedDict\n",
    "import matplotlib.pyplot as plt\n",
    "import torch\n",
    "import olympic\n",
    "from typing import Union, Callable, Tuple\n",
    "import sys\n",
    "sys.path.append('../adversarial/')\n",
    "sys.path.append('../architectures/')\n",
    "from functional import boundary, iterated_fgsm, local_search, pgd, entropySmoothing\n",
    "from ESGD_utils import *\n",
    "import pickle\n",
    "import time\n",
    "import torch.backends.cudnn as cudnn\n",
    "import argparse, math, random\n",
    "import ESGD_optim\n",
    "from trades import trades_loss"
   ]
  },
  {
   "cell_type": "code",
   "execution_count": 2,
   "metadata": {},
   "outputs": [],
   "source": [
    "from torch.autograd import Variable"
   ]
  },
  {
   "cell_type": "code",
   "execution_count": 3,
   "metadata": {},
   "outputs": [],
   "source": [
    "from torch.optim.lr_scheduler import StepLR"
   ]
  },
  {
   "cell_type": "code",
   "execution_count": 4,
   "metadata": {},
   "outputs": [],
   "source": [
    "if torch.cuda.is_available():\n",
    "    DEVICE = 'cuda'\n",
    "else:\n",
    "    DEVICE = 'cpu'"
   ]
  },
  {
   "cell_type": "code",
   "execution_count": 5,
   "metadata": {},
   "outputs": [],
   "source": [
    "from utils import project"
   ]
  },
  {
   "cell_type": "code",
   "execution_count": 6,
   "metadata": {},
   "outputs": [
    {
     "data": {
      "text/plain": [
       "'cuda'"
      ]
     },
     "execution_count": 6,
     "metadata": {},
     "output_type": "execute_result"
    }
   ],
   "source": [
    "DEVICE"
   ]
  },
  {
   "cell_type": "markdown",
   "metadata": {},
   "source": [
    "# LOAD DATA"
   ]
  },
  {
   "cell_type": "code",
   "execution_count": 7,
   "metadata": {},
   "outputs": [],
   "source": [
    "#place data folders outside working directory"
   ]
  },
  {
   "cell_type": "code",
   "execution_count": 8,
   "metadata": {},
   "outputs": [],
   "source": [
    "kwargs = {'num_workers': 4, 'pin_memory': True}"
   ]
  },
  {
   "cell_type": "code",
   "execution_count": 44,
   "metadata": {},
   "outputs": [],
   "source": [
    "args = {}\n",
    "args['test_batch_size'] = 128\n",
    "args['no_cuda'] = False\n",
    "args['epsilon'] = 0.3\n",
    "args['num_steps'] = 20\n",
    "args['step_size'] = 0.02\n",
    "args['random'] =True,\n",
    "args['white_box_attack']=True\n",
    "args['log_interval'] = 100\n",
    "args['beta'] = 1\n",
    "args['seed'] = 1\n",
    "args['lr'] = 0.03\n",
    "args['momentum'] = 0.9\n",
    "args['batch_size'] = 128\n",
    "args['save_freq'] = 5\n",
    "args['attack'] = 'l_inf'\n",
    "args['norm'] = 'inf'\n",
    "args['epochs'] = 30"
   ]
  },
  {
   "cell_type": "code",
   "execution_count": 26,
   "metadata": {},
   "outputs": [],
   "source": [
    "dataset = 'MNIST' # [MNIST, CIFAR10]\n",
    "if dataset == 'MNIST':\n",
    "    transform = transforms.Compose([\n",
    "    transforms.ToTensor()])\n",
    "    train = datasets.MNIST('../../data/', train=True, transform=transform, download=True)\n",
    "    val = datasets.MNIST('../../data/', train=False, transform=transform, download=True)\n",
    "elif dataset == 'CIFAR10':\n",
    "    # setup data loader\n",
    "    transform_train = transforms.Compose([\n",
    "        transforms.RandomCrop(32, padding=4),\n",
    "        transforms.RandomHorizontalFlip(),\n",
    "        transforms.ToTensor(),\n",
    "    ])\n",
    "    transform_test = transforms.Compose([\n",
    "        transforms.ToTensor(),\n",
    "    ])\n",
    "\n",
    "    train = datasets.CIFAR10('../../data/CIFAR10', train=True, transform=transform_train, download=True)\n",
    "    val = datasets.CIFAR10('../../data/CIFAR10', train=False, transform=transform_test, download=True)\n",
    "    \n",
    "train_loader = DataLoader(train, batch_size=args['batch_size'], shuffle=True, **kwargs)\n",
    "val_loader = DataLoader(val, batch_size=args['test_batch_size'], shuffle=False, **kwargs)"
   ]
  },
  {
   "cell_type": "markdown",
   "metadata": {},
   "source": [
    "# INITIALIZE NETWORK"
   ]
  },
  {
   "cell_type": "code",
   "execution_count": 27,
   "metadata": {},
   "outputs": [],
   "source": [
    "if dataset=='MNIST':\n",
    "    #from net_mnist import Net\n",
    "    #NetName = 'net_mnist'\n",
    "    from small_cnn import SmallCNN   \n",
    "    Net = SmallCNN\n",
    "    NetName = 'SmallCNN'"
   ]
  },
  {
   "cell_type": "markdown",
   "metadata": {},
   "source": [
    "class Net(nn.Module):\n",
    "    def __init__(self):\n",
    "        super(Net, self).__init__()\n",
    "        self.conv1 = nn.Conv2d(1, 32, kernel_size=5)\n",
    "        self.conv2 = nn.Conv2d(32, 64, kernel_size=5)\n",
    "        self.fc1 = nn.Linear(1024, 10)\n",
    "\n",
    "    def forward(self, x):\n",
    "        x = F.relu(F.max_pool2d(self.conv1(x), 2))\n",
    "        x = F.relu(F.max_pool2d(self.conv2(x), 2))\n",
    "        x = x.view(-1, 1024)\n",
    "        x = self.fc1(x)\n",
    "        return x#F.log_softmax(x, dim=1)"
   ]
  },
  {
   "cell_type": "code",
   "execution_count": 28,
   "metadata": {},
   "outputs": [],
   "source": [
    "if dataset=='CIFAR10':\n",
    "    #[ResNet18,ResNet34,ResNet50,WideResNet]\n",
    "    from resnet import ResNet18,ResNet34,ResNet50\n",
    "    from wideresnet import WideResNet\n",
    "    Net = WideResNet\n",
    "    NetName = 'WideResNet'"
   ]
  },
  {
   "cell_type": "code",
   "execution_count": 29,
   "metadata": {},
   "outputs": [
    {
     "data": {
      "text/plain": [
       "small_cnn.SmallCNN"
      ]
     },
     "execution_count": 29,
     "metadata": {},
     "output_type": "execute_result"
    }
   ],
   "source": [
    "Net"
   ]
  },
  {
   "cell_type": "markdown",
   "metadata": {},
   "source": [
    "# RANDOM SEED "
   ]
  },
  {
   "cell_type": "code",
   "execution_count": 30,
   "metadata": {},
   "outputs": [
    {
     "data": {
      "text/plain": [
       "<torch._C.Generator at 0x7fe9502c9110>"
      ]
     },
     "execution_count": 30,
     "metadata": {},
     "output_type": "execute_result"
    }
   ],
   "source": [
    "seed = args['seed']\n",
    "torch.set_num_threads(2)\n",
    "if DEVICE=='cuda':\n",
    "    torch.cuda.set_device(-1)\n",
    "    torch.cuda.manual_seed(seed)\n",
    "    cudnn.benchmark = True\n",
    "random.seed(seed)\n",
    "np.random.seed(seed)\n",
    "torch.manual_seed(seed)"
   ]
  },
  {
   "cell_type": "code",
   "execution_count": 31,
   "metadata": {},
   "outputs": [],
   "source": [
    "def eval_train(model, device, train_loader):\n",
    "    model.eval()\n",
    "    train_loss = 0\n",
    "    correct = 0\n",
    "    with torch.no_grad():\n",
    "        for data, target in train_loader:\n",
    "            data, target = data.to(device), target.to(device)\n",
    "            output = model(data)\n",
    "            train_loss += F.cross_entropy(output, target, size_average=False).item()\n",
    "            pred = output.max(1, keepdim=True)[1]\n",
    "            correct += pred.eq(target.view_as(pred)).sum().item()\n",
    "    train_loss /= len(train_loader.dataset)\n",
    "    print('Training: Average loss: {:.4f}, Accuracy: {}/{} ({:.0f}%)'.format(\n",
    "        train_loss, correct, len(train_loader.dataset),\n",
    "        100. * correct / len(train_loader.dataset)))\n",
    "    training_accuracy = correct / len(train_loader.dataset)\n",
    "    return train_loss, training_accuracy"
   ]
  },
  {
   "cell_type": "code",
   "execution_count": 32,
   "metadata": {},
   "outputs": [],
   "source": [
    "def eval_test(model, device, test_loader):\n",
    "    model.eval()\n",
    "    test_loss = 0\n",
    "    correct = 0\n",
    "    with torch.no_grad():\n",
    "        for data, target in test_loader:\n",
    "            data, target = data.to(device), target.to(device)\n",
    "            output = model(data)\n",
    "            test_loss += F.cross_entropy(output, target, size_average=False).item()\n",
    "            pred = output.max(1, keepdim=True)[1]\n",
    "            correct += pred.eq(target.view_as(pred)).sum().item()\n",
    "    test_loss /= len(test_loader.dataset)\n",
    "    print('Test: Average loss: {:.4f}, Accuracy: {}/{} ({:.2f}%)'.format(\n",
    "        test_loss, correct, len(test_loader.dataset),\n",
    "        100. * correct / len(test_loader.dataset)))\n",
    "    test_accuracy = correct / len(test_loader.dataset)\n",
    "    return test_loss, test_accuracy"
   ]
  },
  {
   "cell_type": "code",
   "execution_count": 45,
   "metadata": {},
   "outputs": [],
   "source": [
    "def _pgd_whitebox(model,\n",
    "                  X,\n",
    "                  y,\n",
    "                  epsilon=args['epsilon'],\n",
    "                  norm=args['norm'],\n",
    "                  num_steps=args['num_steps'],\n",
    "                  step_size=args['step_size']):\n",
    "    out = model(X)\n",
    "    err = (out.data.max(1)[1] != y.data).float().sum()\n",
    "    X_pgd = Variable(X.data, requires_grad=True)\n",
    "    if args['random']:\n",
    "        random_noise = torch.FloatTensor(*X_pgd.shape).uniform_(-epsilon, epsilon).to(DEVICE)\n",
    "        X_pgd = Variable(X_pgd.data + random_noise, requires_grad=True)\n",
    "\n",
    "    for _ in range(num_steps):\n",
    "        opt = optim.SGD([X_pgd], lr=1e-3)\n",
    "        opt.zero_grad()\n",
    "\n",
    "        with torch.enable_grad():\n",
    "            loss = nn.CrossEntropyLoss()(model(X_pgd), y)\n",
    "        loss.backward()\n",
    "        if norm=='inf':\n",
    "            eta = step_size * X_pgd.grad.data.sign()\n",
    "            X_pgd = Variable(X_pgd.data + eta, requires_grad=True)\n",
    "            eta = torch.clamp(X_pgd.data - X.data, -epsilon, epsilon)\n",
    "            X_pgd = Variable(X.data + eta, requires_grad=True)\n",
    "        elif norm==2:\n",
    "            #print('l2 attack')\n",
    "            eta = step_size * X_pgd.grad.data / X_pgd.grad.view(X_pgd.shape[0], -1).norm(2, dim=-1)\\\n",
    "                    .view(-1, 1, 1, 1)\n",
    "            X_pgd = Variable(X_pgd.data + eta, requires_grad=True)\n",
    "            X_pgd = project(X, X_pgd, norm, epsilon)            \n",
    "        X_pgd = Variable(torch.clamp(X_pgd, 0, 1.0), requires_grad=True)\n",
    "        #print('distance of attack:',torch.norm(X_pgd-X)/np.sqrt(128))\n",
    "    err_pgd = (model(X_pgd).data.max(1)[1] != y.data).float().sum()\n",
    "    #print('err pgd (white-box): ', err_pgd)\n",
    "    return err, err_pgd\n",
    "\n",
    "def eval_adv_test_whitebox(model, device, test_loader):\n",
    "    \"\"\"\n",
    "    evaluate model by white-box attack\n",
    "    \"\"\"\n",
    "    model.eval()\n",
    "    robust_err_total = 0\n",
    "    natural_err_total = 0\n",
    "\n",
    "    for data, target in test_loader:\n",
    "        data, target = data.to(device), target.to(device)\n",
    "        # pgd attack\n",
    "        X, y = Variable(data, requires_grad=True), Variable(target)\n",
    "        err_natural, err_robust = _pgd_whitebox(model, X, y)\n",
    "        robust_err_total += err_robust\n",
    "        natural_err_total += err_natural\n",
    "    rob = 100-robust_err_total.item()/100    \n",
    "    print('natural_acc_total: ', 100-natural_err_total.item()/100)\n",
    "    print('robust_acc_total: ', rob)\n",
    "    return rob"
   ]
  },
  {
   "cell_type": "code",
   "execution_count": 34,
   "metadata": {},
   "outputs": [],
   "source": [
    "if not os.path.exists('../trainedmodels'):\n",
    "    os.makedirs('../trainedmodels')"
   ]
  },
  {
   "cell_type": "code",
   "execution_count": 35,
   "metadata": {},
   "outputs": [],
   "source": [
    "def infnorm(x):\n",
    "    infn = torch.max(torch.abs(x.detach().cpu()))\n",
    "    return infn"
   ]
  },
  {
   "cell_type": "code",
   "execution_count": 36,
   "metadata": {},
   "outputs": [],
   "source": [
    "def train_adversarial(method,model, device, train_loader, optimizer, epoch,adversary,L,step,eps,norm):\n",
    "    totalcorrect = 0\n",
    "    batches = len(train_loader)\n",
    "    for batch_idx, (data, target) in enumerate(train_loader):\n",
    "        #print('batch:{:d}/{:d}'.format(batch_idx,batches))\n",
    "        data, target = data.to(device), target.to(device)        \n",
    "        sgd_loss = nn.CrossEntropyLoss()\n",
    "        # calculate robust loss per batch\n",
    "        loss, correct = method(model,optimizer,sgd_loss,data,target,epoch,adversary,L,step,eps,norm)\n",
    "        totalcorrect += correct\n",
    "    print('robust train accuracy:',100*totalcorrect/len(train_loader.dataset))   "
   ]
  },
  {
   "cell_type": "markdown",
   "metadata": {},
   "source": [
    "# TRAIN MODEL USING SAT"
   ]
  },
  {
   "cell_type": "code",
   "execution_count": 46,
   "metadata": {},
   "outputs": [],
   "source": [
    "def adversarial_training(model, optimiser, loss_fn, x, y, epoch, adversary, k, step, eps, norm):\n",
    "    \"\"\"Performs a single update against a specified adversary\"\"\"\n",
    "    model.train()\n",
    "    \n",
    "    # Adversial perturbation\n",
    "    x_adv = adversary(model, x, y, loss_fn, k=k, step=step, eps=eps, norm=norm, random=True)\n",
    "    \n",
    "    optimiser.zero_grad()\n",
    "    y_pred = model(x_adv)\n",
    "    pred = y_pred.max(1, keepdim=True)[1]\n",
    "    correct = pred.eq(y.view_as(pred)).sum().item()\n",
    "    loss = loss_fn(y_pred, y)\n",
    "    loss.backward()\n",
    "    optimiser.step()\n",
    "\n",
    "    return loss, correct"
   ]
  },
  {
   "cell_type": "code",
   "execution_count": 38,
   "metadata": {},
   "outputs": [],
   "source": [
    "def adversarial_training_entropy(model, optimiser, loss_fn, x, y, epoch, adversary, L, step, eps, norm):\n",
    "    \"\"\"Performs a single update against a specified adversary\"\"\"\n",
    "    model.train()\n",
    "    \n",
    "    # Adversial perturbation\n",
    "    alpha=0.9\n",
    "    loss = 0\n",
    "    \n",
    "    if norm==2:\n",
    "        gamma = 1e-2\n",
    "    elif norm=='inf':\n",
    "        gamma = 0\n",
    "        \n",
    "    for l in range(L):     \n",
    "        \n",
    "        if l==0: ## initialize using random perturbation of true x, run for one epoch\n",
    "            k=1\n",
    "            random=True\n",
    "            xp = None\n",
    "            projector=False\n",
    "        elif l>0 and l<L-1: ## initialize with previous iterate of adversarial perturbation, run one epoch\n",
    "            k=1\n",
    "            random=False\n",
    "            xp=x_adv\n",
    "            projector = False\n",
    "        elif l == L-1: ## initialize with previous iterate, run one epoch, project to epsilon ball\n",
    "            k=1\n",
    "            random=False\n",
    "            xp = x_adv\n",
    "            if norm==2:\n",
    "                projector=False\n",
    "            elif norm=='inf':    \n",
    "                projector=True\n",
    "            \n",
    "        x_adv = adversary(model, x, y, loss_fn, xp=xp, step=step, eps=eps, norm=norm, random=random, ep=1e-4,projector=projector,gamma=gamma)\n",
    "        \n",
    "        optimiser.zero_grad()\n",
    "        y_pred = model(x_adv)\n",
    "        pred = y_pred.max(1, keepdim=True)[1]\n",
    "        correct = pred.eq(y.view_as(pred)).sum().item()\n",
    "        loss = (1-alpha)*loss + alpha*loss_fn(y_pred, y)\n",
    "        \n",
    "    loss.backward()\n",
    "    optimiser.step()\n",
    "    return loss, correct"
   ]
  },
  {
   "cell_type": "code",
   "execution_count": 39,
   "metadata": {},
   "outputs": [],
   "source": [
    "model_dir = '../SmallCNN_MNIST'"
   ]
  },
  {
   "cell_type": "code",
   "execution_count": 40,
   "metadata": {},
   "outputs": [],
   "source": [
    "if not os.path.exists(model_dir):\n",
    "    os.makedirs(model_dir)"
   ]
  },
  {
   "cell_type": "code",
   "execution_count": 47,
   "metadata": {},
   "outputs": [],
   "source": [
    "def adjust_learning_rate(optimizer, epoch,lr_init):\n",
    "    \"\"\"decrease the learning rate\"\"\"\n",
    "    lr = lr_init\n",
    "    if epoch >= 15:   \n",
    "        lr = lr_init * 0.5\n",
    "    for param_group in optimizer.param_groups:\n",
    "        param_group['lr'] = lr"
   ]
  },
  {
   "cell_type": "code",
   "execution_count": 48,
   "metadata": {
    "scrolled": true
   },
   "outputs": [
    {
     "name": "stdout",
     "output_type": "stream",
     "text": [
      "Epoch: 1\n",
      "robust train accuracy: 41.815\n",
      "================================================================\n"
     ]
    },
    {
     "name": "stderr",
     "output_type": "stream",
     "text": [
      "/usr/lib/python3/dist-packages/torch/nn/_reduction.py:44: UserWarning: size_average and reduce args will be deprecated, please use reduction='sum' instead.\n",
      "  warnings.warn(warning.format(ret))\n"
     ]
    },
    {
     "name": "stdout",
     "output_type": "stream",
     "text": [
      "Training: Average loss: 0.3015, Accuracy: 57565/60000 (96%)\n",
      "natural_acc_total:  95.99\n",
      "robust_acc_total:  73.28999999999999\n",
      "================================================================\n",
      "Epoch: 2\n",
      "robust train accuracy: 88.16\n",
      "================================================================\n",
      "Training: Average loss: 0.1630, Accuracy: 58774/60000 (98%)\n",
      "natural_acc_total:  98.01\n",
      "robust_acc_total:  85.98\n",
      "================================================================\n",
      "Epoch: 3\n",
      "robust train accuracy: 93.90333333333334\n",
      "================================================================\n",
      "Training: Average loss: 0.0644, Accuracy: 59178/60000 (99%)\n",
      "natural_acc_total:  98.82\n",
      "robust_acc_total:  91.6\n",
      "================================================================\n",
      "Epoch: 4\n",
      "robust train accuracy: 95.51333333333334\n",
      "================================================================\n",
      "Training: Average loss: 0.0476, Accuracy: 59315/60000 (99%)\n",
      "natural_acc_total:  98.81\n",
      "robust_acc_total:  93.35\n",
      "================================================================\n",
      "Epoch: 5\n",
      "robust train accuracy: 96.445\n",
      "================================================================\n",
      "Training: Average loss: 0.0357, Accuracy: 59466/60000 (99%)\n",
      "natural_acc_total:  98.9\n",
      "robust_acc_total:  94.27\n",
      "================================================================\n",
      "Epoch: 6\n",
      "robust train accuracy: 96.90333333333334\n",
      "================================================================\n",
      "Training: Average loss: 0.0379, Accuracy: 59482/60000 (99%)\n",
      "natural_acc_total:  99.07\n",
      "robust_acc_total:  94.88\n",
      "================================================================\n",
      "Epoch: 7\n",
      "robust train accuracy: 97.22166666666666\n",
      "================================================================\n",
      "Training: Average loss: 0.0306, Accuracy: 59592/60000 (99%)\n",
      "natural_acc_total:  99.28\n",
      "robust_acc_total:  95.1\n",
      "================================================================\n",
      "Epoch: 8\n",
      "robust train accuracy: 97.43166666666667\n",
      "================================================================\n",
      "Training: Average loss: 0.0272, Accuracy: 59665/60000 (99%)\n",
      "natural_acc_total:  99.21\n",
      "robust_acc_total:  95.3\n",
      "================================================================\n",
      "Epoch: 9\n",
      "robust train accuracy: 97.67666666666666\n",
      "================================================================\n",
      "Training: Average loss: 0.0204, Accuracy: 59691/60000 (99%)\n",
      "natural_acc_total:  99.22\n",
      "robust_acc_total:  95.0\n",
      "================================================================\n",
      "Epoch: 10\n",
      "robust train accuracy: 97.90833333333333\n",
      "================================================================\n",
      "Training: Average loss: 0.0165, Accuracy: 59740/60000 (100%)\n",
      "natural_acc_total:  99.24\n",
      "robust_acc_total:  94.8\n",
      "================================================================\n",
      "Epoch: 11\n",
      "robust train accuracy: 97.98833333333333\n",
      "================================================================\n",
      "Training: Average loss: 0.0190, Accuracy: 59701/60000 (100%)\n",
      "natural_acc_total:  99.28\n",
      "robust_acc_total:  95.54\n",
      "================================================================\n",
      "Epoch: 12\n",
      "robust train accuracy: 98.14833333333333\n",
      "================================================================\n",
      "Training: Average loss: 0.0144, Accuracy: 59745/60000 (100%)\n",
      "natural_acc_total:  99.33\n",
      "robust_acc_total:  96.12\n",
      "================================================================\n",
      "Epoch: 13\n",
      "robust train accuracy: 98.30833333333334\n",
      "================================================================\n",
      "Training: Average loss: 0.0151, Accuracy: 59770/60000 (100%)\n",
      "natural_acc_total:  99.35\n",
      "robust_acc_total:  95.77\n",
      "================================================================\n",
      "Epoch: 14\n",
      "robust train accuracy: 98.32166666666667\n",
      "================================================================\n",
      "Training: Average loss: 0.0115, Accuracy: 59808/60000 (100%)\n",
      "natural_acc_total:  99.4\n",
      "robust_acc_total:  95.15\n",
      "================================================================\n",
      "Epoch: 15\n",
      "robust train accuracy: 98.77666666666667\n",
      "================================================================\n",
      "Training: Average loss: 0.0097, Accuracy: 59836/60000 (100%)\n",
      "natural_acc_total:  99.41\n",
      "robust_acc_total:  95.4\n",
      "================================================================\n",
      "Epoch: 16\n",
      "robust train accuracy: 98.85333333333334\n",
      "================================================================\n",
      "Training: Average loss: 0.0100, Accuracy: 59842/60000 (100%)\n",
      "natural_acc_total:  99.31\n",
      "robust_acc_total:  95.85\n",
      "================================================================\n",
      "Epoch: 17\n",
      "robust train accuracy: 98.95666666666666\n",
      "================================================================\n",
      "Training: Average loss: 0.0086, Accuracy: 59866/60000 (100%)\n",
      "natural_acc_total:  99.36\n",
      "robust_acc_total:  96.09\n",
      "================================================================\n",
      "Epoch: 18\n",
      "robust train accuracy: 98.99\n",
      "================================================================\n",
      "Training: Average loss: 0.0088, Accuracy: 59863/60000 (100%)\n",
      "natural_acc_total:  99.39\n",
      "robust_acc_total:  96.46\n",
      "================================================================\n",
      "Epoch: 19\n",
      "robust train accuracy: 99.05666666666667\n",
      "================================================================\n",
      "Training: Average loss: 0.0077, Accuracy: 59881/60000 (100%)\n",
      "natural_acc_total:  99.39\n",
      "robust_acc_total:  95.22\n",
      "================================================================\n",
      "Epoch: 20\n",
      "robust train accuracy: 99.05333333333333\n",
      "================================================================\n",
      "Training: Average loss: 0.0067, Accuracy: 59888/60000 (100%)\n",
      "natural_acc_total:  99.44\n",
      "robust_acc_total:  95.88\n",
      "================================================================\n",
      "Epoch: 21\n",
      "robust train accuracy: 98.97666666666667\n",
      "================================================================\n",
      "Training: Average loss: 0.0078, Accuracy: 59884/60000 (100%)\n",
      "natural_acc_total:  99.33\n",
      "robust_acc_total:  96.06\n",
      "================================================================\n",
      "Epoch: 22\n",
      "robust train accuracy: 99.05\n",
      "================================================================\n",
      "Training: Average loss: 0.0068, Accuracy: 59889/60000 (100%)\n",
      "natural_acc_total:  99.43\n",
      "robust_acc_total:  95.96\n",
      "================================================================\n",
      "Epoch: 23\n",
      "robust train accuracy: 99.11833333333334\n",
      "================================================================\n",
      "Training: Average loss: 0.0057, Accuracy: 59914/60000 (100%)\n",
      "natural_acc_total:  99.45\n",
      "robust_acc_total:  96.49\n",
      "================================================================\n",
      "Epoch: 24\n",
      "robust train accuracy: 99.205\n",
      "================================================================\n",
      "Training: Average loss: 0.0056, Accuracy: 59917/60000 (100%)\n",
      "natural_acc_total:  99.48\n",
      "robust_acc_total:  96.07\n",
      "================================================================\n",
      "Epoch: 25\n",
      "robust train accuracy: 99.13333333333334\n",
      "================================================================\n",
      "Training: Average loss: 0.0056, Accuracy: 59905/60000 (100%)\n",
      "natural_acc_total:  99.38\n",
      "robust_acc_total:  95.81\n",
      "================================================================\n",
      "Epoch: 26\n",
      "robust train accuracy: 99.19\n",
      "================================================================\n",
      "Training: Average loss: 0.0052, Accuracy: 59932/60000 (100%)\n",
      "natural_acc_total:  99.41\n",
      "robust_acc_total:  96.2\n",
      "================================================================\n",
      "Epoch: 27\n",
      "robust train accuracy: 99.19\n",
      "================================================================\n",
      "Training: Average loss: 0.0058, Accuracy: 59925/60000 (100%)\n",
      "natural_acc_total:  99.4\n",
      "robust_acc_total:  96.01\n",
      "================================================================\n",
      "Epoch: 28\n",
      "robust train accuracy: 99.31333333333333\n",
      "================================================================\n",
      "Training: Average loss: 0.0044, Accuracy: 59936/60000 (100%)\n",
      "natural_acc_total:  99.41\n",
      "robust_acc_total:  96.33\n",
      "================================================================\n",
      "Epoch: 29\n",
      "robust train accuracy: 99.235\n",
      "================================================================\n",
      "Training: Average loss: 0.0053, Accuracy: 59928/60000 (100%)\n",
      "natural_acc_total:  99.44\n",
      "robust_acc_total:  96.3\n",
      "================================================================\n",
      "Epoch: 30\n"
     ]
    },
    {
     "name": "stdout",
     "output_type": "stream",
     "text": [
      "robust train accuracy: 99.255\n",
      "================================================================\n",
      "Training: Average loss: 0.0047, Accuracy: 59944/60000 (100%)\n",
      "natural_acc_total:  99.42\n",
      "robust_acc_total:  95.93\n",
      "================================================================\n"
     ]
    }
   ],
   "source": [
    "## initialize model\n",
    "model_ATENT = Net().to(DEVICE)\n",
    "## training params\n",
    "epochs = args['epochs']  \n",
    "lr_init = 1*args['lr']\n",
    "optimizer = optim.SGD(model_ATENT.parameters(), lr=lr_init, momentum=0.9)\n",
    "## train model\n",
    "\n",
    "for epoch in range(1, epochs+1):\n",
    "    print('Epoch:',epoch)\n",
    "    \n",
    "    # adjust learning rate for SGD\n",
    "    adjust_learning_rate(optimizer, epoch,lr_init)\n",
    "    \n",
    "    # adversarial training\n",
    "    train_adversarial(adversarial_training_entropy,model_ATENT, DEVICE, train_loader, optimizer, epoch,adversary=entropySmoothing,L=2*args['num_steps'],step=args['step_size'],eps=args['epsilon'],norm=args['norm'])\n",
    "\n",
    "    # evaluation on natural and adversarial examples\n",
    "    print('================================================================')\n",
    "    eval_train(model_ATENT, DEVICE, train_loader)\n",
    "    rob = eval_adv_test_whitebox(model_ATENT, DEVICE, val_loader)            \n",
    "    print('================================================================')\n",
    "\n",
    "    # save checkpoint\n",
    "    if (epoch-1) % 1 == 0:\n",
    "        torch.save(model_ATENT.state_dict(),\n",
    "                   os.path.join(model_dir, 'model-nn-epoch{}-robacc{}.pt'.format(epoch,int(np.round(rob)))))\n",
    "\n",
    "## save model\n",
    "modelname = '../trainedmodels/'+dataset+'/'+NetName+'_ATENT_'+args['attack']+'_ep'+str(epochs)+'_lr'+str(lr_init)+'.pt'\n",
    "#torch.save(model_ATENT,modelname)"
   ]
  },
  {
   "cell_type": "code",
   "execution_count": null,
   "metadata": {},
   "outputs": [],
   "source": [
    "def train_trades(args, model, device, train_loader, optimizer, epoch):\n",
    "    model.train()\n",
    "    for batch_idx, (data, target) in enumerate(train_loader):\n",
    "        data, target = data.to(device), target.to(device)\n",
    "\n",
    "        optimizer.zero_grad()\n",
    "\n",
    "        # calculate robust loss\n",
    "        loss = trades_loss(model=model,\n",
    "                           x_natural=data,\n",
    "                           y=target,\n",
    "                           optimizer=optimizer,\n",
    "                           step_size=args['step_size'],\n",
    "                           epsilon=args['epsilon'],\n",
    "                           perturb_steps=args['num_steps'],\n",
    "                           beta=args['beta'])\n",
    "\n",
    "        loss.backward()\n",
    "        optimizer.step()"
   ]
  },
  {
   "cell_type": "code",
   "execution_count": null,
   "metadata": {},
   "outputs": [],
   "source": [
    "## initialize model\n",
    "model_TRADES = Net().to(DEVICE)\n",
    "## training params\n",
    "lr_init = args['lr']\n",
    "optimizer = optim.SGD(model_TRADES.parameters(), lr=lr_init, momentum=0.9)\n",
    "epochs = args['epochs']\n",
    "## train model\n",
    "\n",
    "for epoch in range(1, epochs + 1):\n",
    "    print('Epoch:',epoch)\n",
    "    # adjust learning rate for SGD\n",
    "    adjust_learning_rate(optimizer, epoch, lr_init = lr_init)\n",
    "\n",
    "    # adversarial training\n",
    "    train_trades(args, model_TRADES, DEVICE, train_loader, optimizer, epoch)\n",
    "\n",
    "    # evaluation on natural examples\n",
    "    if epoch % 1 == 0:\n",
    "        print('================================================================')\n",
    "        eval_train(model_TRADES, DEVICE, train_loader)\n",
    "        eval_adv_test_whitebox(model_TRADES, DEVICE, val_loader)\n",
    "        print('================================================================')\n",
    "\n",
    "## save model\n",
    "modelname = '../trainedmodels/'+dataset+'/'+NetName+'_TRADES_'+args['attack']+'_ep'+str(epochs)+'_lr'+str(lr_init)+'.pt'\n",
    "#torch.save(model_TRADES,modelname)"
   ]
  },
  {
   "cell_type": "code",
   "execution_count": null,
   "metadata": {},
   "outputs": [],
   "source": []
  }
 ],
 "metadata": {
  "kernelspec": {
   "display_name": "Python 3",
   "language": "python",
   "name": "python3"
  },
  "language_info": {
   "codemirror_mode": {
    "name": "ipython",
    "version": 3
   },
   "file_extension": ".py",
   "mimetype": "text/x-python",
   "name": "python",
   "nbconvert_exporter": "python",
   "pygments_lexer": "ipython3",
   "version": "3.8.5"
  }
 },
 "nbformat": 4,
 "nbformat_minor": 4
}
